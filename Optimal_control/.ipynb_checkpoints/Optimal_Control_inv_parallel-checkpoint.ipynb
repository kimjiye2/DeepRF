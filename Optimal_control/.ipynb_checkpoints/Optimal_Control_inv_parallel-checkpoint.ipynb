{
 "cells": [
  {
   "cell_type": "code",
   "execution_count": null,
   "metadata": {},
   "outputs": [],
   "source": [
    "def Bloch_simul_rot(x,y,z,T1,T2,RF,Gz,time_step,slice_thick,spatial_point,off_range, device):\n",
    "    \n",
    "    #     % units\n",
    "    # % x, y, z : (spatial_point,1) for each\n",
    "    # % T1, T2 : [msec]\n",
    "    # % RF (B x 2 x N) : B : batch RF(:, 0,:) is [Gauss], RF(:, 1,:) row is angle [degree] \n",
    "    # % Gz : [mT/m] (1 * N matrix) = [0.1 G/cm]\n",
    "    # % time_step : pulse duration / sample points [msec]\n",
    "    # % slice_thick : half of simulating thickness [m]\n",
    "    # % spatial_point : number of points that are going to be simulated [#]\n",
    "    # % \n",
    "    # % returns\n",
    "    # % rot: (B , time series, 3, 3)\n",
    "\n",
    "    T1 = T1 / 1000\n",
    "    T2 = T2 / 1000\n",
    "    batch =  RF.shape[0]\n",
    "\n",
    "    length_RF = RF[0, 0, :].shape[0]\n",
    "    t_int = time_step * 1e-3\n",
    "\n",
    "    # delta_omega = 2*pi*42.57747892*10^6 * (-1:2/(spatial_point-1):1).'*slice_thick*0.001*Gz;\n",
    "    delta_omega = 2*np.pi*off_range.unsqueeze(1).unsqueeze(0).repeat(1, 1, 256).to(device)\n",
    "    RF_amp = (RF[:, 0,:].unsqueeze(1) * 2 * np.pi * 4257.747892).repeat(1, spatial_point, 1).to(device)\n",
    "    RF_phase = ((RF[:, 1,:]).unsqueeze(1).repeat(1, spatial_point, 1)*np.pi/180).to(device)\n",
    "    alpha = t_int * torch.sqrt(RF_amp ** 2 + delta_omega **2)\n",
    "\n",
    "    zeta = torch.atan2(RF_amp, delta_omega)\n",
    "    theta = RF_phase ## B x spatial_points x N (N : RF length)\n",
    "    \n",
    "    ca = torch.cos(alpha)\n",
    "    sa = torch.sin(alpha).to(device)\n",
    "    cz = torch.cos(zeta).to(device)\n",
    "    sz = torch.sin(zeta).to(device)\n",
    "    ct = torch.cos(theta).to(device)\n",
    "    st = torch.sin(theta).to(device)\n",
    "    E1 = np.exp(- t_int / T1)\n",
    "    E2 = np.exp(- t_int / T2)\n",
    "    \n",
    "    Mx_x_part = ct*(E2*ct*(sz**2) + cz*(E2*sa*st + E2*ca*ct*cz)) + st*(E2*ca*st - E2*ct*cz*sa)\n",
    "    Mx_y_part = st*(E2*ct*(sz**2) + cz*(E2*sa*st + E2*ca*ct*cz)) - ct*(E2*ca*st - E2*ct*cz*sa)\n",
    "    Mx_z_part = E2*ct*cz*sz - sz*(E2*sa*st + E2*ca*ct*cz)\n",
    "    My_x_part = - ct*(- E2*st*(sz**2) + cz*(E2*ct*sa - E2*ca*cz*st)) - st*(E2*ca*ct + E2*cz*sa*st)\n",
    "    My_y_part = ct*(E2*ca*ct + E2*cz*sa*st) - st*(- E2*st*(sz**2) + cz*(E2*ct*sa - E2*ca*cz*st))\n",
    "    My_z_part = sz*(E2*ct*sa - E2*ca*cz*st) + E2*cz*st*sz\n",
    "    Mz_x_part = ct*(E1*cz*sz - E1*ca*cz*sz) + E1*sa*st*sz\n",
    "    Mz_y_part = st*(E1*cz*sz - E1*ca*cz*sz) - E1*ct*sa*sz\n",
    "    Mz_z_part = E1*(cz**2) + E1*ca*(sz**2);\n",
    "\n",
    "\n",
    "    rot = torch.zeros((batch, spatial_point,length_RF,3,3), device=device)\n",
    "    rot[:,:,:,0,0] = Mx_x_part\n",
    "    rot[:,:,:,0,1] = Mx_y_part\n",
    "    rot[:,:,:,0,2] = Mx_z_part\n",
    "    rot[:,:,:,1,0] = My_x_part\n",
    "    rot[:,:,:,1,1] = My_y_part\n",
    "    rot[:,:,:,1,2] = My_z_part\n",
    "    rot[:,:,:,2,0] = Mz_x_part\n",
    "    rot[:,:,:,2,1] = Mz_y_part\n",
    "    rot[:,:,:,2,2] = Mz_z_part\n",
    "    return rot\n"
   ]
  },
  {
   "cell_type": "code",
   "execution_count": null,
   "metadata": {},
   "outputs": [],
   "source": [
    "def RF_simul(RF_pulse, RF_img, off_range, time_step):\n",
    "    # RF_pulse, RF_img  : (B x N x 1) \n",
    "    # off_range = (spatial_points)\n",
    "    size = RF_pulse.shape[1]\n",
    "    batch = RF_pulse.shape[0]\n",
    "    RF_pulse_new = torch.zeros(batch,size,2)\n",
    "\n",
    "    RF_pulse_new[:, :, 0] = torch.sqrt((RF_pulse**2+RF_img**2)).squeeze()\n",
    "    RF_pulse_new[:, :, 1] = torch.angle(torch.complex(RF_pulse, RF_img)).squeeze()\n",
    "\n",
    "    max_rf_amp = torch.amax(RF_pulse_new[:,:,0],dim=1)/ (2*np.pi *42.577*1e+6*time_step*1e-4)\n",
    "\n",
    "    rr = 42.577; # MHz/T\n",
    "    Gz =  40; # mT/m (fixed)\n",
    "    pos = torch.abs(off_range[0] / rr / Gz); # mm\n",
    "    max_rf = torch.amax(RF_pulse_new[:,:,0], dim=1).view(batch, 1)\n",
    "    mag = (RF_pulse_new[:,:,0] / max_rf ) * max_rf_amp.view(batch, 1)\n",
    "    ph = (RF_pulse_new[:,:,1] / np.pi)*180\n",
    "    \n",
    "\n",
    "    pulse = torch.cat([mag.unsqueeze(2), ph.unsqueeze(2)],2)\n",
    "    pulse = torch.transpose(pulse, 1, 2)\n",
    "    gg = torch.transpose(torch.ones((RF_pulse_new.shape[0],1)), 0, 1) * Gz\n",
    "\n",
    "    freq_shape = off_range.shape[0]\n",
    "    rot = Bloch_simul_rot(np.zeros([freq_shape,1]),np.zeros([freq_shape,1]),np.ones([freq_shape,1]), 1e+10, 1e+10, pulse, gg, time_step * 1e+3,pos * 0.001,freq_shape,off_range, device).to(device)\n",
    "\n",
    "    return rot"
   ]
  },
  {
   "cell_type": "code",
   "execution_count": 3,
   "metadata": {},
   "outputs": [],
   "source": [
    "from os import path\n",
    "import sys\n",
    "\n",
    "import os\n",
    "import time\n",
    "import argparse\n",
    "import gym\n",
    "import numpy as np\n",
    "from scipy.io import loadmat\n",
    "import torch\n",
    "import torch.nn as nn\n",
    "from torch.optim.lr_scheduler import ReduceLROnPlateau\n",
    "import matplotlib.pyplot as plt\n",
    "# Select GPU\n",
    "os.environ[\"CUDA_DEVICE_ORDER\"] = \"PCI_BUS_ID\"\n",
    "os.environ[\"CUDA_VISIBLE_DEVICES\"] = \"3\"\n",
    "\n",
    "device = 'cuda' if torch.cuda.is_available() else 'cpu'\n",
    "\n",
    "\n",
    "# Hyperparameter setting\n",
    "gamma = 2 * np.pi * 42.5775 * 1e+6\n",
    "N_time_step = 256\n",
    "max_RF_amp = 0.2 * 1e-4 #T\n",
    "max_N_iter =5000\n",
    "mu = 0.0002  #learning rate\n",
    "alpha = 0.2795 # trade off between slice profile loss and sar\n",
    "freq = torch.linspace(-8000, 8000, 2000) #Hz\n",
    "T = 5.12*1e-3 #sec\n",
    "k = freq.shape[0]\n",
    "max_rad = max_RF_amp * gamma * T/N_time_step\n",
    "time_step = T / N_time_step\n",
    "\n",
    "# create B matrix\n",
    "B1 = torch.zeros((3*k, 3*k)).to(device)\n",
    "B2 = torch.zeros((3*k, 3*k)).to(device)\n",
    "\n",
    "# create Projection matrix P\n",
    "P = torch.zeros(3*k, 3*k).to(device)\n",
    "\n",
    "\n",
    "for i in range(k) : \n",
    "    B1[i*3:(i+1)*3, i*3:(i+1)*3] = torch.from_numpy(np.array([[0,0,0], [0,0,1], [0,-1,0]]))\n",
    "    B2[i*3:(i+1)*3, i*3:(i+1)*3] = torch.from_numpy(np.array([[0,0,-1], [0,0,0], [1,0,0]]))\n",
    "    P[3*i+2, 3*i+2] = 1"
   ]
  },
  {
   "cell_type": "code",
   "execution_count": 4,
   "metadata": {},
   "outputs": [],
   "source": [
    "from scipy.io import loadmat, savemat\n",
    "\n",
    "a = loadmat('./SLR_inv_oc.mat')\n",
    "slr = a['slr']\n",
    "\n",
    "import torch\n",
    "import numpy as np\n",
    "rot = RF_simul(torch.from_numpy(slr).unsqueeze(0), torch.zeros((1, 256,1)).type(torch.DoubleTensor), torch.linspace(-8000,8000,2000), 5.12*1e-3/256)\n",
    "\n",
    "rot = rot.squeeze()\n",
    "batch = 256"
   ]
  },
  {
   "cell_type": "code",
   "execution_count": 5,
   "metadata": {},
   "outputs": [],
   "source": [
    "Mt = torch.zeros([k, N_time_step+1, 3]).to(device)\n",
    "Mt[:, 0, 2] = 1\n",
    "torch.set_printoptions(threshold=5000)\n",
    "\n",
    "for f in range(1, N_time_step+1):\n",
    "    Mt[:, f, 0] = (Mt[:, f-1, 0] * rot[:, f-1, 0, 0]) +  (Mt[:, f-1, 1] * rot[:, f-1, 0, 1]) +  (Mt[:, f-1, 2] * rot[:, f-1, 0, 2])\n",
    "    Mt[:, f, 1] = (Mt[:, f-1, 0] * rot[:, f-1, 1, 0]) +  (Mt[:, f-1, 1] * rot[:, f-1, 1, 1]) +  (Mt[:, f-1, 2] * rot[:, f-1, 1, 2])\n",
    "    Mt[:, f, 2] = (Mt[:, f-1, 0] * rot[:, f-1, 2, 0]) +  (Mt[:, f-1, 1] * rot[:, f-1, 2, 1]) +  (Mt[:, f-1, 2] * rot[:, f-1, 2, 2])\n",
    "\n",
    "D = Mt[:, -1, :].squeeze().reshape(-1, 1)\n",
    "K = torch.mm(P, D);\n"
   ]
  },
  {
   "cell_type": "code",
   "execution_count": 15,
   "metadata": {},
   "outputs": [],
   "source": [
    "# Create input vectors\n",
    "preset = loadmat('./OC_input_inv_STA.mat')\n",
    "w1 = np.array(preset['w1'], dtype=np.float32)\n",
    "w2 = np.array(preset['w2'], dtype=np.float32)\n",
    "w1 = torch.FloatTensor(w1).unsqueeze(0)\n",
    "w2 = torch.FloatTensor(w2).unsqueeze(0)\n",
    "w1 = w1.repeat(batch,1,1)\n",
    "w2 = w2.repeat(batch,1,1)\n",
    "w1 = w1.to(device)\n",
    "w2 = w2.to(device)\n"
   ]
  },
  {
   "cell_type": "code",
   "execution_count": 11,
   "metadata": {},
   "outputs": [
    {
     "data": {
      "text/plain": [
       "torch.Size([256, 2000, 1, 3])"
      ]
     },
     "execution_count": 11,
     "metadata": {},
     "output_type": "execute_result"
    }
   ],
   "source": [
    "Mt[:,:, f-1, :].unsqueeze(-2).shape"
   ]
  },
  {
   "cell_type": "code",
   "execution_count": 12,
   "metadata": {},
   "outputs": [
    {
     "data": {
      "text/plain": [
       "torch.Size([256, 2000, 3])"
      ]
     },
     "execution_count": 12,
     "metadata": {},
     "output_type": "execute_result"
    }
   ],
   "source": [
    "torch.sum(Mt[:,:, f-1, :].unsqueeze(-2) * rot[:,:, f-1, :, :] ,dim=-1).shape"
   ]
  },
  {
   "cell_type": "code",
   "execution_count": null,
   "metadata": {},
   "outputs": [],
   "source": [
    "rot[:,:, f-1, 0, 0]*Mt[:,:, f-1, 0] + rot[:,:, f-1, 1, 0]*Mt[:,:, f-1, 0] + rot[:,:, f-1, 2, 0]*Mt[:,:, f-1, 0]"
   ]
  },
  {
   "cell_type": "code",
   "execution_count": null,
   "metadata": {},
   "outputs": [
    {
     "name": "stdout",
     "output_type": "stream",
     "text": [
      "★★★★★★★★★★★★★★★★★★★★★★★★\n",
      "SAR reduction : -10.2302 %\n",
      "iteration = 0, phi_d = 18.92312, energy = 0.30918\n",
      "Execution time: 4.042\n"
     ]
    }
   ],
   "source": [
    "start_time = time.time()\n",
    "\n",
    "sar_loss = []\n",
    "L2_loss  = []\n",
    "total_loss = []\n",
    "stop = 0 \n",
    "\n",
    "for e in range(max_N_iter):\n",
    "    epoch_time = time.time()\n",
    "\n",
    "    Mt = torch.zeros([batch, k, N_time_step+1, 3], device = device)\n",
    "    Mt[:, :, 0, 2] = 1\n",
    "\n",
    "    rot = (RF_simul(torch.transpose(w1,1,2), torch.transpose(w2,1,2), freq, T/N_time_step)).squeeze().to(device)\n",
    "    ''' \n",
    "    for f in range(1 ,N_time_step+1):\n",
    "        Mt[:, :, f, :]  = torch.sum(Mt[:,:, f-1, :].unsqueeze(-2) * rot[:,:, f-1, :, :] ,dim=-1)\n",
    "        #Mt[:, :, f, :] = Mt[:,:, f-1, 0] * rot[:,:, f-1, :, 0].unsqueeze(-2) +  Mt[:,:, f-1, 1].unsqueeze(-2) * rot[:,:, f-1, :, 1] +  Mt[:,:, f-1, 2].unsqueeze(-2) * rot[:, :,f-1, :, 2] \n",
    "   \n",
    "    '''\n",
    "    for f in range(1 ,N_time_step+1):\n",
    "        Mt[:, :, f, 0] = Mt[:,:, f-1, 0] * rot[:,:, f-1, 0, 0] +  Mt[:,:, f-1, 1] * rot[:,:, f-1, 0, 1] +  Mt[:,:, f-1, 2] * rot[:, :,f-1, 0, 2] \n",
    "        Mt[:, :, f, 1] = Mt[:,:, f-1, 0] * rot[:, :,f-1, 1, 0] +  Mt[:,:, f-1, 1] * rot[:,:, f-1, 1, 1] +  Mt[:,:, f-1, 2] * rot[:,:, f-1, 1, 2] \n",
    "        Mt[:, :, f, 2] = Mt[:,:, f-1, 0] * rot[:, :,f-1, 2, 0] +  Mt[:,:, f-1, 1] * rot[:,:, f-1, 2, 1] +  Mt[:,:, f-1, 2] * rot[:, :,f-1, 2, 2] \n",
    "   \n",
    "    Mt = Mt[:, :, 1:, :]\n",
    "    M_T = Mt[:, :, -1, :].reshape(batch, -1, 1)\n",
    "    \n",
    "    lambda_T = torch.transpose((torch.matmul(torch.mm(torch.transpose(P, 0,1),P), M_T) - torch.mm(torch.transpose(P,0,1), K)),1,2).squeeze().to(device)\n",
    "    lambda_ = torch.zeros((batch, k, N_time_step, 3)).to(device)\n",
    "    lambda_[:, :, -1, 0] = lambda_T[:, 0:3*k:3]\n",
    "    lambda_[:, :, -1, 1] = lambda_T[:, 1:3*k:3]\n",
    "    lambda_[:, :, -1, 2] = lambda_T[:, 2:3*k:3]\n",
    "\n",
    "    for b in range(N_time_step-1, 0, -1):\n",
    "        lambda_[:, :, b-1, 0] = lambda_[:, :, b, 0] * rot[:, :, b, 0, 0] + lambda_[:, :, b, 1] * rot[:, :, b, 1, 0] + lambda_[:, :, b, 2] * rot[:, :, b, 2, 0]\n",
    "        lambda_[:, :, b-1, 1] = lambda_[:, :, b, 0] * rot[:, :, b, 0, 1] + lambda_[:, :, b, 1] * rot[:, :, b, 1, 1] + lambda_[:, :, b, 2] * rot[:, :, b, 2, 1]\n",
    "        lambda_[:, :, b-1, 2] = lambda_[:, :, b, 0] * rot[:, :, b, 0, 2] + lambda_[:, :, b, 1] * rot[:, :, b, 1, 2] + lambda_[:, :, b, 2] * rot[:, :, b, 2, 2]\n",
    "        \n",
    "    # Update rf pulse\n",
    "    for u in range(N_time_step):\n",
    "        M = Mt[:, :,  u, :].squeeze().reshape(batch, -1, 1)\n",
    "        lamb = lambda_[:, :, u, :].squeeze().reshape(batch, -1, 1).to(device)\n",
    "        w1[:, :, u] = w1[:, :, u] - mu * (torch.bmm(torch.matmul(torch.transpose(lamb, 1, 2), B1), M).squeeze(1) + alpha * w1[:, :, u])\n",
    "        w2[:, :, u] = w2[:, :, u] - mu * (torch.bmm(torch.matmul(torch.transpose(lamb, 1, 2), B2), M).squeeze(1) + alpha * w2[:, :, u])\n",
    "\n",
    "    M_ = (Mt[:, :, -1, :]).squeeze().reshape(batch,-1,  1)\n",
    "    dist = torch.matmul(P, M_) - K\n",
    "    phi_d = (1/2 * (torch.matmul(torch.transpose(dist,1, 2), dist))).squeeze() \n",
    "    energy = torch.sum(w1**2 + w2**2, dim=2).squeeze()\n",
    "    sar_loss.append(energy)\n",
    "    L2_loss.append(phi_d)\n",
    "    loss = phi_d + alpha * energy\n",
    "    \n",
    "    if e == 0 or (e +1) % 20 == 0:\n",
    "        time_step = 5.12 * 1e-3 / 256 \n",
    "        to_gauss = 2 * np.pi * 42.5775 * 1e+6 * time_step * 1e-4\n",
    "        sar_slr = np.sum((slr/to_gauss)**2) * time_step * 1e+6\n",
    "        sar_rf = torch.sum((w1**2 + w2 **2), dim = 2) / (to_gauss**2) * time_step * 1e+6\n",
    "        print(\"★★★★★★★★★★★★★★★★★★★★★★★★\")\n",
    "        #print(f\"SAR of SLR : {sar_slr:.5f}\")\n",
    "        idx = torch.argmin(sar_rf)\n",
    "        #print(f\"SAR of RF : {torch.min(sar_rf):.5f}\")\n",
    "        print(f\"SAR reduction : {(sar_slr - torch.min(sar_rf))/sar_slr *100:.4f} %\")\n",
    "        idx = torch.argmin(loss)\n",
    "        \n",
    "        print(f\"iteration = {e}, phi_d = {phi_d[idx].item():.5f}, energy = {energy[idx].item():.5f}\")\n",
    "        print(f\"Execution time: {time.time() - epoch_time:.3f}\")    \n",
    "\n",
    "\n",
    "    #print(total_loss[-1][idx])\n",
    "    if (e > 500) :\n",
    "        if (loss[idx] > total_loss[-1][idx]) :\n",
    "            stop = stop + 1\n",
    "        else :\n",
    "            stop = 0 \n",
    "        \n",
    "        if(stop>5):\n",
    "            break\n",
    "    total_loss.append(loss)\n",
    "        \n",
    "print(f\"Total time: {time.time() - start_time:.1f}\")"
   ]
  },
  {
   "cell_type": "code",
   "execution_count": null,
   "metadata": {},
   "outputs": [],
   "source": [
    "savemat(\"OC_result_inv8_STA_batch.mat\", {\"L2loss\": L2_loss, \"sar_loss\" : sar_loss, \"w1\" : w1.detach().cpu().numpy(), \"w2\" : w2.detach().cpu().numpy(), \"total loss\" : total_loss, \"iteration\" : e, \"mu\" : mu})"
   ]
  },
  {
   "cell_type": "code",
   "execution_count": null,
   "metadata": {},
   "outputs": [],
   "source": []
  }
 ],
 "metadata": {
  "kernelspec": {
   "display_name": "Python 3",
   "language": "python",
   "name": "python3"
  },
  "language_info": {
   "codemirror_mode": {
    "name": "ipython",
    "version": 3
   },
   "file_extension": ".py",
   "mimetype": "text/x-python",
   "name": "python",
   "nbconvert_exporter": "python",
   "pygments_lexer": "ipython3",
   "version": "3.7.9"
  }
 },
 "nbformat": 4,
 "nbformat_minor": 4
}
