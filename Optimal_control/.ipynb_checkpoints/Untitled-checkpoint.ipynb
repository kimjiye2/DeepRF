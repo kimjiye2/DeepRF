{
 "cells": [
  {
   "cell_type": "code",
   "execution_count": 20,
   "metadata": {},
   "outputs": [],
   "source": [
    "import numpy as np\n",
    "gamma = 2 * np.pi * 42.5775 * 1e+6\n",
    "N_time_step = 256\n",
    "max_RF_amp = 0.2 * 1e-4 #T\n",
    "max_N_iter = 20000\n",
    "mu = 3 # learning rate\n",
    "alpha = 10 # trade off between slice profile loss and sar\n",
    "freq = np.linspace(-8000, 8000, 2000) #Hz\n",
    "T = 5.12e-3 #sec\n",
    "\n",
    "k = int(freq.size)\n",
    "max_rad = max_RF_amp * gamma * T/N_time_step\n",
    "time_step = T / N_time_step\n",
    "    \n",
    "B1 = np.zeros((3*k, 3*k))\n",
    "B1.shape\n",
    "\n",
    "for i in range(k) : \n",
    "    B1[i*3:(i+1)*3, i*3:(i+1)*3] = np.array([[0,0,0], [0,0,1], [0,-1,0]])"
   ]
  },
  {
   "cell_type": "code",
   "execution_count": 23,
   "metadata": {},
   "outputs": [
    {
     "name": "stdout",
     "output_type": "stream",
     "text": [
      "[[ 0.  0.  0.]\n",
      " [ 0.  0.  1.]\n",
      " [ 0. -1.  0.]]\n"
     ]
    }
   ],
   "source": [
    "print(B1[3:6,3:6])"
   ]
  },
  {
   "cell_type": "code",
   "execution_count": null,
   "metadata": {},
   "outputs": [],
   "source": []
  }
 ],
 "metadata": {
  "kernelspec": {
   "display_name": "Python 3",
   "language": "python",
   "name": "python3"
  },
  "language_info": {
   "codemirror_mode": {
    "name": "ipython",
    "version": 3
   },
   "file_extension": ".py",
   "mimetype": "text/x-python",
   "name": "python",
   "nbconvert_exporter": "python",
   "pygments_lexer": "ipython3",
   "version": "3.7.9"
  }
 },
 "nbformat": 4,
 "nbformat_minor": 4
}
