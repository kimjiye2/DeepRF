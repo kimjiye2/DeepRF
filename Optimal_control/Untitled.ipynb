{
 "cells": [
  {
   "cell_type": "code",
   "execution_count": 1,
   "metadata": {},
   "outputs": [],
   "source": [
    "def Bloch_simul_rot(self, x,y,z,T1,T2,RF,Gz,time_step,slice_thick,spatial_point,off_range):\n",
    "        T1 = T1 / 1000\n",
    "\n",
    "        T2 = T2 / 1000\n",
    "\n",
    "        length_RF = int(RF[1,:].size)\n",
    "\n",
    "        t_int = time_step * 10 ** (- 3)\n",
    "\n",
    "        # delta_omega = 2*pi*42.57747892*10^6 * (-1:2/(spatial_point-1):1).'*slice_thick*0.001*Gz;\n",
    "        delta_omega = np.pi*off_range.repeat(1,256)\n",
    "        RF_amp = (RF[1,:] * 2 * np.pi * 4257.747892).repeat(spatial_point, 1)\n",
    "        RF_phase = (RF[2,:]).repeat(spatial_point, 1)\n",
    "        alpha = t_int * torch.sqrt(RF_amp ** 2 + delta_omega **2)\n",
    "        zeta = torch.atan2(RF_amp, delta_omega)\n",
    "\n",
    "        theta = RF_phase\n",
    "        ca = torch.cos(alpha)\n",
    "        sa = torch.sin(alpha)\n",
    "        cz = torch.cos(zeta)\n",
    "        sz = torch.sin(zeta)\n",
    "        ct = torch.cos(theta)\n",
    "        st = torch.sin(theta)\n",
    "        E1 = torch.exp(- t_int / T1)\n",
    "        E2 = torch.exp(- t_int / T2)\n",
    "        Mx_x_part = torch.matmul(ct,(torch.matmul(torch.matmul(E2,ct),sz ** 2) + torch.matmul(cz,(torch.matmul(torch.matmul(E2,sa),st) + torch.matmul(torch.matmul(torch.matmul(E2,ca),ct),cz))))) + torch.matmul(st,(torch.matmul(torch.matmul(E2,ca),st) - torch.matmul(torch.matmul(torch.matmul(E2,ct),cz),sa)))\n",
    "        Mx_y_part = torch.matmul(st,(torch.matmul(torch.matmul(E2,ct),sz ** 2) + torch.matmul(cz,(torch.matmul(torch.matmul(E2,sa),st) + torch.matmul(torch.matmul(torch.matmul(E2,ca),ct),cz))))) - torch.matmul(ct,(torch.matmul(torch.matmul(E2,ca),st) - torch.matmul(torch.matmul(torch.matmul(E2,ct),cz),sa)))\n",
    "        Mx_z_part = torch.matmul(torch.matmul(torch.matmul(E2,ct),cz),sz) - torch.matmul(sz,(torch.matmul(torch.matmul(E2,sa),st) + torch.matmul(torch.matmul(torch.matmul(E2,ca),ct),cz)))\n",
    "        My_x_part = torch.matmul(- ct,(torch.matmul(torch.matmul(- E2,st),sz ** 2) + torch.matmul(cz,(torch.matmul(torch.matmul(E2,ct),sa) - torch.matmul(torch.matmul(torch.matmul(E2,ca),cz),st))))) - torch.matmul(st,(torch.matmul(torch.matmul(E2,ca),ct) + torch.matmul(torch.matmul(torch.matmul(E2,cz),sa),st)))\n",
    "        My_y_part = torch.matmul(ct,(torch.matmul(torch.matmul(E2,ca),ct) + torch.matmul(torch.matmul(torch.matmul(E2,cz),sa),st))) - torch.matmul(st,(torch.matmul(torch.matmul(- E2,st),sz ** 2) + torch.matmul(cz,(torch.matmul(torch.matmul(E2,ct),sa) - torch.matmul(torch.matmul(torch.matmul(E2,ca),cz),st)))))\n",
    "        My_z_part = torch.matmul(sz,(torch.matmul(torch.matmul(E2,ct),sa) - torch.matmul(torch.matmul(torch.matmul(E2,ca),cz),st))) + torch.matmul(torch.matmul(torch.matmul(E2,cz),st),sz)\n",
    "        Mz_x_part = torch.matmul(ct,(torch.matmul(torch.matmul(E1,cz),sz) - torch.matmul(torch.matmul(torch.matmul(E1,ca),cz),sz))) + torch.matmul(torch.matmul(torch.matmul(E1,sa),st),sz)\n",
    "        Mz_y_part = torch.matmul(st,(torch.matmul(torch.matmul(E1,cz),sz) - torch.matmul(torch.matmul(torch.matmul(E1,ca),cz),sz))) - torch.matmul(torch.matmul(torch.matmul(E1,ct),sa),sz)\n",
    "        Mz_z_part = torch.matmul(E1,cz ** 2) + torch.matmul(torch.matmul(E1,ca),sz ** 2)\n",
    "\n",
    "    \n",
    "        rot = torch.zeros(spatial_point,length_RF,3,3)\n",
    "        rot[:,:,1,1] = Mx_x_part\n",
    "        rot[:,:,1,2] = Mx_y_part\n",
    "        rot[:,:,1,3] = Mx_z_part\n",
    "        rot[:,:,2,1] = My_x_part\n",
    "        rot[:,:,2,2] = My_y_part\n",
    "        rot[:,:,2,3] = My_z_part\n",
    "        rot[:,:,3,1] = Mz_x_part\n",
    "        rot[:,:,3,2] = Mz_y_part\n",
    "        rot[:,:,3,3] = Mz_z_part\n",
    "        return rot\n"
   ]
  },
  {
   "cell_type": "code",
   "execution_count": 2,
   "metadata": {},
   "outputs": [],
   "source": [
    "    def RF_simul(self, RF_pulse, RF_img, off_range, time_step):\n",
    "        size = int(RF_pulse.size)\n",
    "        RF_pulse_new = torch.zeros((size,2))\n",
    "        RF_pulse_new[:,1] = torch.sqrt(RF_pulse**2+RF_img**2)\n",
    "        RF_pulse_new[:,2] = torch.angle(torch.complex(RF_pulse, RF_img))\n",
    "        \n",
    "        max_rf_amp = torch.max(RF_pulse_new[:,1]) / (2*torch.pi *42.577*1e+6*time_step*1e-4)\n",
    "        rr = 42.577; # MHz/T\n",
    "        Gz =  40; # mT/m (fixed)\n",
    "        pos = torch.abs(off_range[0] / rr / Gz); # mm\n",
    "        pulse = np.transpose(np.array([RF_pulse_new[:,1] / np.max(RF_pulse_new[:,1]) * max_rf_amp,RF_pulse_new[:,2] / pi * 180]))\n",
    "        gg = np.transpose(np.ones((RF_pulse_new.shape[1-1],1))) * Gz\n",
    "        \n",
    "        freq_shape = int(off_range.size)\n",
    "        rot = Bloch_simul_rot(np.zeros([freq_shape,1]),np.zeros([freq_shape,1]),np.ones([freq_shape,1]),1e+10,1e+10,pulse,gg,time_step * 1e+3,pos * 0.001,freq_shape,off_range)\n",
    "        \n",
    "        return rot"
   ]
  },
  {
   "cell_type": "code",
   "execution_count": 4,
   "metadata": {},
   "outputs": [
    {
     "ename": "FileNotFoundError",
     "evalue": "[Errno 2] No such file or directory: './SLR_inv_oc.mat'",
     "output_type": "error",
     "traceback": [
      "\u001b[0;31m---------------------------------------------------------------------------\u001b[0m",
      "\u001b[0;31mFileNotFoundError\u001b[0m                         Traceback (most recent call last)",
      "\u001b[0;32m~/anaconda3/envs/jiyekim/lib/python3.7/site-packages/scipy/io/matlab/mio.py\u001b[0m in \u001b[0;36m_open_file\u001b[0;34m(file_like, appendmat, mode)\u001b[0m\n\u001b[1;32m     38\u001b[0m     \u001b[0;32mtry\u001b[0m\u001b[0;34m:\u001b[0m\u001b[0;34m\u001b[0m\u001b[0;34m\u001b[0m\u001b[0m\n\u001b[0;32m---> 39\u001b[0;31m         \u001b[0;32mreturn\u001b[0m \u001b[0mopen\u001b[0m\u001b[0;34m(\u001b[0m\u001b[0mfile_like\u001b[0m\u001b[0;34m,\u001b[0m \u001b[0mmode\u001b[0m\u001b[0;34m)\u001b[0m\u001b[0;34m,\u001b[0m \u001b[0;32mTrue\u001b[0m\u001b[0;34m\u001b[0m\u001b[0;34m\u001b[0m\u001b[0m\n\u001b[0m\u001b[1;32m     40\u001b[0m     \u001b[0;32mexcept\u001b[0m \u001b[0mIOError\u001b[0m\u001b[0;34m:\u001b[0m\u001b[0;34m\u001b[0m\u001b[0;34m\u001b[0m\u001b[0m\n",
      "\u001b[0;31mFileNotFoundError\u001b[0m: [Errno 2] No such file or directory: './SLR_inv_oc.mat'",
      "\nDuring handling of the above exception, another exception occurred:\n",
      "\u001b[0;31mFileNotFoundError\u001b[0m                         Traceback (most recent call last)",
      "\u001b[0;32m<ipython-input-4-898d5c7a3126>\u001b[0m in \u001b[0;36m<module>\u001b[0;34m\u001b[0m\n\u001b[1;32m      1\u001b[0m \u001b[0;32mfrom\u001b[0m \u001b[0mscipy\u001b[0m\u001b[0;34m.\u001b[0m\u001b[0mio\u001b[0m \u001b[0;32mimport\u001b[0m \u001b[0mloadmat\u001b[0m\u001b[0;34m\u001b[0m\u001b[0;34m\u001b[0m\u001b[0m\n\u001b[1;32m      2\u001b[0m \u001b[0;34m\u001b[0m\u001b[0m\n\u001b[0;32m----> 3\u001b[0;31m \u001b[0ma\u001b[0m \u001b[0;34m=\u001b[0m \u001b[0mloadmat\u001b[0m\u001b[0;34m(\u001b[0m\u001b[0;34m'./SLR_inv_oc.mat'\u001b[0m\u001b[0;34m)\u001b[0m\u001b[0;34m\u001b[0m\u001b[0;34m\u001b[0m\u001b[0m\n\u001b[0m",
      "\u001b[0;32m~/anaconda3/envs/jiyekim/lib/python3.7/site-packages/scipy/io/matlab/mio.py\u001b[0m in \u001b[0;36mloadmat\u001b[0;34m(file_name, mdict, appendmat, **kwargs)\u001b[0m\n\u001b[1;32m    220\u001b[0m     \"\"\"\n\u001b[1;32m    221\u001b[0m     \u001b[0mvariable_names\u001b[0m \u001b[0;34m=\u001b[0m \u001b[0mkwargs\u001b[0m\u001b[0;34m.\u001b[0m\u001b[0mpop\u001b[0m\u001b[0;34m(\u001b[0m\u001b[0;34m'variable_names'\u001b[0m\u001b[0;34m,\u001b[0m \u001b[0;32mNone\u001b[0m\u001b[0;34m)\u001b[0m\u001b[0;34m\u001b[0m\u001b[0;34m\u001b[0m\u001b[0m\n\u001b[0;32m--> 222\u001b[0;31m     \u001b[0;32mwith\u001b[0m \u001b[0m_open_file_context\u001b[0m\u001b[0;34m(\u001b[0m\u001b[0mfile_name\u001b[0m\u001b[0;34m,\u001b[0m \u001b[0mappendmat\u001b[0m\u001b[0;34m)\u001b[0m \u001b[0;32mas\u001b[0m \u001b[0mf\u001b[0m\u001b[0;34m:\u001b[0m\u001b[0;34m\u001b[0m\u001b[0;34m\u001b[0m\u001b[0m\n\u001b[0m\u001b[1;32m    223\u001b[0m         \u001b[0mMR\u001b[0m\u001b[0;34m,\u001b[0m \u001b[0m_\u001b[0m \u001b[0;34m=\u001b[0m \u001b[0mmat_reader_factory\u001b[0m\u001b[0;34m(\u001b[0m\u001b[0mf\u001b[0m\u001b[0;34m,\u001b[0m \u001b[0;34m**\u001b[0m\u001b[0mkwargs\u001b[0m\u001b[0;34m)\u001b[0m\u001b[0;34m\u001b[0m\u001b[0;34m\u001b[0m\u001b[0m\n\u001b[1;32m    224\u001b[0m         \u001b[0mmatfile_dict\u001b[0m \u001b[0;34m=\u001b[0m \u001b[0mMR\u001b[0m\u001b[0;34m.\u001b[0m\u001b[0mget_variables\u001b[0m\u001b[0;34m(\u001b[0m\u001b[0mvariable_names\u001b[0m\u001b[0;34m)\u001b[0m\u001b[0;34m\u001b[0m\u001b[0;34m\u001b[0m\u001b[0m\n",
      "\u001b[0;32m~/anaconda3/envs/jiyekim/lib/python3.7/contextlib.py\u001b[0m in \u001b[0;36m__enter__\u001b[0;34m(self)\u001b[0m\n\u001b[1;32m    110\u001b[0m         \u001b[0;32mdel\u001b[0m \u001b[0mself\u001b[0m\u001b[0;34m.\u001b[0m\u001b[0margs\u001b[0m\u001b[0;34m,\u001b[0m \u001b[0mself\u001b[0m\u001b[0;34m.\u001b[0m\u001b[0mkwds\u001b[0m\u001b[0;34m,\u001b[0m \u001b[0mself\u001b[0m\u001b[0;34m.\u001b[0m\u001b[0mfunc\u001b[0m\u001b[0;34m\u001b[0m\u001b[0;34m\u001b[0m\u001b[0m\n\u001b[1;32m    111\u001b[0m         \u001b[0;32mtry\u001b[0m\u001b[0;34m:\u001b[0m\u001b[0;34m\u001b[0m\u001b[0;34m\u001b[0m\u001b[0m\n\u001b[0;32m--> 112\u001b[0;31m             \u001b[0;32mreturn\u001b[0m \u001b[0mnext\u001b[0m\u001b[0;34m(\u001b[0m\u001b[0mself\u001b[0m\u001b[0;34m.\u001b[0m\u001b[0mgen\u001b[0m\u001b[0;34m)\u001b[0m\u001b[0;34m\u001b[0m\u001b[0;34m\u001b[0m\u001b[0m\n\u001b[0m\u001b[1;32m    113\u001b[0m         \u001b[0;32mexcept\u001b[0m \u001b[0mStopIteration\u001b[0m\u001b[0;34m:\u001b[0m\u001b[0;34m\u001b[0m\u001b[0;34m\u001b[0m\u001b[0m\n\u001b[1;32m    114\u001b[0m             \u001b[0;32mraise\u001b[0m \u001b[0mRuntimeError\u001b[0m\u001b[0;34m(\u001b[0m\u001b[0;34m\"generator didn't yield\"\u001b[0m\u001b[0;34m)\u001b[0m \u001b[0;32mfrom\u001b[0m \u001b[0;32mNone\u001b[0m\u001b[0;34m\u001b[0m\u001b[0;34m\u001b[0m\u001b[0m\n",
      "\u001b[0;32m~/anaconda3/envs/jiyekim/lib/python3.7/site-packages/scipy/io/matlab/mio.py\u001b[0m in \u001b[0;36m_open_file_context\u001b[0;34m(file_like, appendmat, mode)\u001b[0m\n\u001b[1;32m     15\u001b[0m \u001b[0;34m@\u001b[0m\u001b[0mcontextmanager\u001b[0m\u001b[0;34m\u001b[0m\u001b[0;34m\u001b[0m\u001b[0m\n\u001b[1;32m     16\u001b[0m \u001b[0;32mdef\u001b[0m \u001b[0m_open_file_context\u001b[0m\u001b[0;34m(\u001b[0m\u001b[0mfile_like\u001b[0m\u001b[0;34m,\u001b[0m \u001b[0mappendmat\u001b[0m\u001b[0;34m,\u001b[0m \u001b[0mmode\u001b[0m\u001b[0;34m=\u001b[0m\u001b[0;34m'rb'\u001b[0m\u001b[0;34m)\u001b[0m\u001b[0;34m:\u001b[0m\u001b[0;34m\u001b[0m\u001b[0;34m\u001b[0m\u001b[0m\n\u001b[0;32m---> 17\u001b[0;31m     \u001b[0mf\u001b[0m\u001b[0;34m,\u001b[0m \u001b[0mopened\u001b[0m \u001b[0;34m=\u001b[0m \u001b[0m_open_file\u001b[0m\u001b[0;34m(\u001b[0m\u001b[0mfile_like\u001b[0m\u001b[0;34m,\u001b[0m \u001b[0mappendmat\u001b[0m\u001b[0;34m,\u001b[0m \u001b[0mmode\u001b[0m\u001b[0;34m)\u001b[0m\u001b[0;34m\u001b[0m\u001b[0;34m\u001b[0m\u001b[0m\n\u001b[0m\u001b[1;32m     18\u001b[0m     \u001b[0;32mtry\u001b[0m\u001b[0;34m:\u001b[0m\u001b[0;34m\u001b[0m\u001b[0;34m\u001b[0m\u001b[0m\n\u001b[1;32m     19\u001b[0m         \u001b[0;32myield\u001b[0m \u001b[0mf\u001b[0m\u001b[0;34m\u001b[0m\u001b[0;34m\u001b[0m\u001b[0m\n",
      "\u001b[0;32m~/anaconda3/envs/jiyekim/lib/python3.7/site-packages/scipy/io/matlab/mio.py\u001b[0m in \u001b[0;36m_open_file\u001b[0;34m(file_like, appendmat, mode)\u001b[0m\n\u001b[1;32m     43\u001b[0m             \u001b[0;32mif\u001b[0m \u001b[0mappendmat\u001b[0m \u001b[0;32mand\u001b[0m \u001b[0;32mnot\u001b[0m \u001b[0mfile_like\u001b[0m\u001b[0;34m.\u001b[0m\u001b[0mendswith\u001b[0m\u001b[0;34m(\u001b[0m\u001b[0;34m'.mat'\u001b[0m\u001b[0;34m)\u001b[0m\u001b[0;34m:\u001b[0m\u001b[0;34m\u001b[0m\u001b[0;34m\u001b[0m\u001b[0m\n\u001b[1;32m     44\u001b[0m                 \u001b[0mfile_like\u001b[0m \u001b[0;34m+=\u001b[0m \u001b[0;34m'.mat'\u001b[0m\u001b[0;34m\u001b[0m\u001b[0;34m\u001b[0m\u001b[0m\n\u001b[0;32m---> 45\u001b[0;31m             \u001b[0;32mreturn\u001b[0m \u001b[0mopen\u001b[0m\u001b[0;34m(\u001b[0m\u001b[0mfile_like\u001b[0m\u001b[0;34m,\u001b[0m \u001b[0mmode\u001b[0m\u001b[0;34m)\u001b[0m\u001b[0;34m,\u001b[0m \u001b[0;32mTrue\u001b[0m\u001b[0;34m\u001b[0m\u001b[0;34m\u001b[0m\u001b[0m\n\u001b[0m\u001b[1;32m     46\u001b[0m         \u001b[0;32melse\u001b[0m\u001b[0;34m:\u001b[0m\u001b[0;34m\u001b[0m\u001b[0;34m\u001b[0m\u001b[0m\n\u001b[1;32m     47\u001b[0m             \u001b[0;32mraise\u001b[0m \u001b[0mIOError\u001b[0m\u001b[0;34m(\u001b[0m\u001b[0;34m'Reader needs file name or open file-like object'\u001b[0m\u001b[0;34m)\u001b[0m\u001b[0;34m\u001b[0m\u001b[0;34m\u001b[0m\u001b[0m\n",
      "\u001b[0;31mFileNotFoundError\u001b[0m: [Errno 2] No such file or directory: './SLR_inv_oc.mat'"
     ]
    }
   ],
   "source": [
    "from scipy.io import loadmat\n",
    "\n",
    "a = loadmat('./SLR_inv_oc.mat')"
   ]
  },
  {
   "cell_type": "code",
   "execution_count": 46,
   "metadata": {},
   "outputs": [],
   "source": [
    "k = torch.tensor(0.2)\n",
    "torch.angle(torch.complex(k,k))\n",
    "\n",
    "k =torch.zeros(2,2)\n",
    "a = k.repeat(1,256)\n",
    "a = np.pi*k.repeat(1,256)"
   ]
  },
  {
   "cell_type": "code",
   "execution_count": 47,
   "metadata": {},
   "outputs": [
    {
     "data": {
      "text/plain": [
       "torch.Size([2, 512])"
      ]
     },
     "execution_count": 47,
     "metadata": {},
     "output_type": "execute_result"
    }
   ],
   "source": [
    "a.shape"
   ]
  },
  {
   "cell_type": "code",
   "execution_count": 50,
   "metadata": {},
   "outputs": [],
   "source": [
    "k = torch.ones(612,1)\n",
    "k = k[0:3:6]"
   ]
  },
  {
   "cell_type": "code",
   "execution_count": null,
   "metadata": {},
   "outputs": [],
   "source": []
  }
 ],
 "metadata": {
  "kernelspec": {
   "display_name": "Python 3",
   "language": "python",
   "name": "python3"
  },
  "language_info": {
   "codemirror_mode": {
    "name": "ipython",
    "version": 3
   },
   "file_extension": ".py",
   "mimetype": "text/x-python",
   "name": "python",
   "nbconvert_exporter": "python",
   "pygments_lexer": "ipython3",
   "version": "3.7.9"
  }
 },
 "nbformat": 4,
 "nbformat_minor": 4
}
